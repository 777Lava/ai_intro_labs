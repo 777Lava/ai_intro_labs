{
  "nbformat": 4,
  "nbformat_minor": 0,
  "metadata": {
    "colab": {
      "provenance": []
    },
    "kernelspec": {
      "name": "python3",
      "display_name": "Python 3"
    },
    "language_info": {
      "name": "python"
    }
  },
  "cells": [
    {
      "cell_type": "markdown",
      "source": [
        "1 Задание"
      ],
      "metadata": {
        "id": "T8btHb0Jrp_g"
      }
    },
    {
      "cell_type": "code",
      "execution_count": null,
      "metadata": {
        "id": "iE-MfkT_qqx_"
      },
      "outputs": [],
      "source": [
        "int_variable = 0  # int\n",
        "assert isinstance(int_variable, int)\n",
        "\n",
        "float_variable = 0.0 # float\n",
        "assert isinstance(float_variable, float)\n",
        "\n",
        "string_variable = \"\"  # string\n",
        "assert isinstance(string_variable, str)\n",
        "\n",
        "bool_variable = False  # bool\n",
        "assert isinstance(bool_variable, bool)"
      ]
    },
    {
      "cell_type": "code",
      "source": [
        "list_variable = []  # list\n",
        "assert isinstance(list_variable, list)\n",
        "\n",
        "tuple_variable = ()  # tuple\n",
        "assert isinstance(tuple_variable, tuple)\n",
        "\n",
        "set_variable = set()  # set\n",
        "assert isinstance(set_variable, set)\n",
        "\n",
        "dict_variable = dict()  # dict\n",
        "assert isinstance(dict_variable, dict)"
      ],
      "metadata": {
        "id": "W07yztKKscaX"
      },
      "execution_count": null,
      "outputs": []
    },
    {
      "cell_type": "markdown",
      "source": [
        "2.1 Различные функции"
      ],
      "metadata": {
        "id": "GOlZOtxZtSGF"
      }
    },
    {
      "cell_type": "code",
      "source": [
        "def difference_of_two_numbers(first, second):\n",
        "    return abs(first - second)\n",
        "    # TODO: напиши меня\n",
        "    pass\n",
        "assert difference_of_two_numbers(2, 1) == 1\n",
        "assert difference_of_two_numbers(4, 1) == 3\n",
        "assert difference_of_two_numbers(10, 0) == 10\n",
        "assert difference_of_two_numbers(-5, -6) == 1"
      ],
      "metadata": {
        "id": "-dyDJGXytTfK"
      },
      "execution_count": null,
      "outputs": []
    },
    {
      "cell_type": "code",
      "source": [
        "def condition_function(input_number):\n",
        "    if (input_number <= 0):\n",
        "      return input_number*2\n",
        "    if (input_number <= 10):\n",
        "      return input_number*3\n",
        "    return input_number/10\n",
        "    \"\"\"\n",
        "    Если входное число меньше либо равно 0, то умножить его на 2.\n",
        "    В противном случае, если число больше 0, но меньше или равно 10, умножить на 3.\n",
        "    Во всех прочих случаях поделить на 10.\n",
        "    \"\"\"\n",
        "    # TODO: напиши меня\n",
        "    pass\n",
        "\n",
        "\n",
        "assert condition_function(0) == 0\n",
        "assert condition_function(-1) == -2\n",
        "assert condition_function(1) == 3\n",
        "assert condition_function(10) == 30\n",
        "assert condition_function(11) == 1.1\n",
        "assert condition_function(20) == 2"
      ],
      "metadata": {
        "id": "SiWzew6dtrDt"
      },
      "execution_count": null,
      "outputs": []
    },
    {
      "cell_type": "code",
      "source": [
        "def calculator(number_1, operation, number_2):\n",
        "    match operation:\n",
        "      case \"+\":\n",
        "        return number_1 + number_2\n",
        "      case \"-\":\n",
        "        return number_1 - number_2\n",
        "      case \"*\":\n",
        "        return number_1 * number_2\n",
        "      case \"/\":\n",
        "        return number_1 / number_2\n",
        "    \"\"\"\n",
        "    Простой оператор, способный выполнять операции +, -, *, /.\n",
        "    На входе первое число, операция в виде строки и второе число.\n",
        "\n",
        "    Пример:\n",
        "    >>> calculator(1, \"+\", 1)\n",
        "    >>> 2\n",
        "    \"\"\"\n",
        "    # TODO: напиши меня\n",
        "    pass\n",
        "\n",
        "\n",
        "assert calculator(1, \"+\", 2) == 3\n",
        "assert calculator(3, \"-\", 1) == 2\n",
        "assert calculator(4, \"*\", 3) == 12\n",
        "assert calculator(2, \"/\", 2) == 1"
      ],
      "metadata": {
        "id": "Tr-PjG1Fue57"
      },
      "execution_count": null,
      "outputs": []
    },
    {
      "cell_type": "code",
      "source": [
        "def number_of_unique_elements(input_list):\n",
        "    return len(set(input_list))\n",
        "    \"\"\"\n",
        "    Считает количество уникальных элементов в листе.\n",
        "    \"\"\"\n",
        "    # TODO: напиши меня\n",
        "    pass\n",
        "\n",
        "\n",
        "assert number_of_unique_elements([1, 2, 3]) == 3\n",
        "assert number_of_unique_elements([1] * 93) == 1\n",
        "assert number_of_unique_elements(list(range(1000))) == 1000"
      ],
      "metadata": {
        "id": "PEnctiiIveRv"
      },
      "execution_count": null,
      "outputs": []
    },
    {
      "cell_type": "code",
      "source": [
        "from collections import defaultdict\n",
        "def counter(input_list):\n",
        "    sl = defaultdict(int)\n",
        "    for items in input_list:\n",
        "      sl[items] +=1\n",
        "    return sl\n",
        "    \"\"\"\n",
        "    Считает количество вхождений каждого из элементов листа.\n",
        "    Возвращает словарь вида {число: количество вхождений}\n",
        "\n",
        "    Замечание (!): встроенным в collections Counter'ом пользоваться нельзя\n",
        "\n",
        "    Например:\n",
        "    counter([1, 1, 2, 3]) вернет {1: 2, 2: 1, 3: 1}\n",
        "    \"\"\"\n",
        "    # TODO: напиши меня\n",
        "    pass\n",
        "\n",
        "\n",
        "assert counter([1, 1, 1, 2, 3]) == {1: 3, 2: 1, 3: 1}\n",
        "assert counter([1] * 1000) == {1: 1000}\n",
        "assert counter([1, 3, 5] * 100) == {1: 100, 3: 100, 5: 100}"
      ],
      "metadata": {
        "id": "rp6p637kvkLW"
      },
      "execution_count": null,
      "outputs": []
    },
    {
      "cell_type": "code",
      "source": [
        "def multiply_nums(input_string):\n",
        "    input = list(map(int,input_string.split(\", \")))\n",
        "    counter = 1\n",
        "    for items in input:\n",
        "      counter *= items\n",
        "    return counter\n",
        "    \"\"\"\n",
        "    Перемножить числа, переданные в строке, перечисленные через запятую.\n",
        "\n",
        "    hint: можно использовать метод .split()\n",
        "    \"\"\"\n",
        "    # TODO: напиши меня\n",
        "    pass\n",
        "\n",
        "\n",
        "assert multiply_nums(\"2, 3\") == 6\n",
        "assert multiply_nums(\"1, 1, 1, 1, 1, 1, 1\") == 1\n",
        "assert multiply_nums(\"345, 4576, 794, 325, 0\") == 0"
      ],
      "metadata": {
        "id": "h5UQxct3xgGw"
      },
      "execution_count": null,
      "outputs": []
    },
    {
      "cell_type": "code",
      "source": [
        "import math\n",
        "def custom_function(x):\n",
        "    return math.cos(x) * math.sin(x)\n",
        "    \"\"\"\n",
        "    Реализуйте функцию, описанную выше sin*cos.\n",
        "    \"\"\"\n",
        "    # TODO: напиши меня\n",
        "    pass\n",
        "\n",
        "assert round(custom_function(1), 3) == 0.455\n",
        "assert round(custom_function(1.5), 3) == 0.071\n",
        "assert round(custom_function(2), 3) == -0.378\n",
        "assert custom_function(0) == 0"
      ],
      "metadata": {
        "id": "1_soZzQTyoEe"
      },
      "execution_count": null,
      "outputs": []
    },
    {
      "cell_type": "code",
      "source": [
        "def custom_function_1(x, n):\n",
        "    y = 1\n",
        "    for i in range (1, n+1):\n",
        "        y*=((i+2)**x + math.log(x))/(x**2 + 4*i)\n",
        "    # TODO: напиши меня\n",
        "    print(y)\n",
        "    return y\n",
        "\n",
        "\n",
        "\n",
        "assert round(custom_function_1(2, 3), 3) == 2.707\n",
        "assert round(custom_function_1(3, 2), 3) == 8.277\n",
        "assert round(custom_function_1(3, 3), 3) == 49.7"
      ],
      "metadata": {
        "colab": {
          "base_uri": "https://localhost:8080/"
        },
        "id": "G3XWnyNLzJgw",
        "outputId": "a5dabffa-195f-411f-a956-8fe41385b962"
      },
      "execution_count": null,
      "outputs": [
        {
          "output_type": "stream",
          "name": "stdout",
          "text": [
            "2.7066314174469377\n",
            "8.27683559832403\n",
            "49.699880147148015\n"
          ]
        }
      ]
    },
    {
      "cell_type": "markdown",
      "source": [
        "2.2 Задачки на написание функций"
      ],
      "metadata": {
        "id": "G5Z6I-p0ae-h"
      }
    },
    {
      "cell_type": "code",
      "source": [
        "# Ваша задача здесь написать функцию time_converter (именно такое название)\n",
        "# она должна возвращать значения в виде строки 'hours minutes'\n",
        "def time_converter(minute):\n",
        "  while minute >= 1440:\n",
        "      minute -= 1440\n",
        "  hour = minute//60\n",
        "  minute %= 60\n",
        "  return str(hour) + \" \" + str(minute)\n",
        "\n",
        "assert time_converter(2782) == '22 22'\n",
        "assert time_converter(4733) == '6 53'\n",
        "assert time_converter(1766) == '5 26'\n",
        "assert time_converter(3865) == '16 25'\n",
        "assert time_converter(4628) == '5 8'\n",
        "assert time_converter(4353) == '0 33'\n",
        "assert time_converter(268) == '4 28'\n",
        "assert time_converter(4373) == '0 53'\n",
        "assert time_converter(2722) == '21 22'\n",
        "assert time_converter(1531) == '1 31'"
      ],
      "metadata": {
        "id": "xsZBXyWsaiGA"
      },
      "execution_count": null,
      "outputs": []
    },
    {
      "cell_type": "code",
      "source": [
        "# Написать функцию min_of_three_values, принимает на вход 3 аргумента\n",
        "def min_of_three_values(a, b, c):\n",
        "  if ( a <=b and a<=c):\n",
        "    return a\n",
        "  if (b <=a and b<=c):\n",
        "    return b\n",
        "  return c\n",
        "\n",
        "assert min_of_three_values(1, 2, 3) == 1\n",
        "assert min_of_three_values(1, 1, 9) == 1\n",
        "assert min_of_three_values(18, 7, 11) == 7\n",
        "assert min_of_three_values(2, 10, 10) == 2\n",
        "assert min_of_three_values(17, 14, 17) == 14\n",
        "assert min_of_three_values(9, 2, 10) == 2\n",
        "assert min_of_three_values(7, 4, 7) == 4\n",
        "assert min_of_three_values(0, 8, 3) == 0\n",
        "assert min_of_three_values(8, 10, 6) == 6\n",
        "assert min_of_three_values(1, 4, 8) == 1"
      ],
      "metadata": {
        "id": "ucBUzz_nb9sn"
      },
      "execution_count": null,
      "outputs": []
    },
    {
      "cell_type": "code",
      "source": [
        "from collections.abc import ItemsView\n",
        "# Функция remove_symbol принимает два аргумента -- строку и символ, которые необходимо удалить\n",
        "def remove_symbol(words , word):\n",
        "    return words.replace(word, \"\")\n",
        "\n",
        "assert remove_symbol('aaaaaaaa', 'a') == ''\n",
        "assert remove_symbol('abababa', 'b') == 'aaaa'\n",
        "assert remove_symbol('12341234', '3') == '124124'"
      ],
      "metadata": {
        "id": "KvH0TJULcTTJ"
      },
      "execution_count": null,
      "outputs": []
    },
    {
      "cell_type": "code",
      "source": [
        "# Функция remove_each_third_sym принимает один агрумент -- строку.\n",
        "# важно -- мы считаем человеческие индексы (начиная с 1, а не 0)\n",
        "# важно -- оставляем первый аргумент\n",
        "# Необходимо вернуть новую строку\n",
        "def remove_each_third_sym(line):\n",
        "    finish = \"\"\n",
        "    for i in range(1, len(line)+1):\n",
        "        if i%3!=0:\n",
        "          finish += line[i-1]\n",
        "\n",
        "    return finish\n",
        "\n",
        "assert remove_each_third_sym('abcdef') == 'abde'\n",
        "assert remove_each_third_sym('sdfasdfasdfsfa') == 'sdasfadffa'\n",
        "assert remove_each_third_sym('123456789') == '124578'\n",
        "assert remove_each_third_sym('987654321') == '986532'"
      ],
      "metadata": {
        "id": "TciOSdYBcuLI"
      },
      "execution_count": null,
      "outputs": []
    },
    {
      "cell_type": "code",
      "source": [
        "# Функция find_max принимает на вход лист\n",
        "# на выходе два числа -- непосредственно максимальное значение и его индекс\n",
        "def find_max(array):\n",
        "  max = 0\n",
        "  ind = 0\n",
        "  for i in range(len(array)):\n",
        "      if array[i] > max:\n",
        "        max = array[i]\n",
        "        ind = i\n",
        "  return (max, ind)\n",
        "\n",
        "\n",
        "assert find_max([1, 2, 3, 4, 5]) == (5, 4)\n",
        "assert find_max([5, 4, 3, 2, 1]) == (5, 0)\n",
        "assert find_max([96, 82, 72, 48, 93, 88, 79]) == (96, 0)\n",
        "assert find_max([49, 75, 65, 65, 65, 18]) == (75, 1)\n",
        "assert find_max([69, 16, 64, 54, 36, 70, 89, 29]) == (89, 6)\n",
        "assert find_max([17, 80, 27, 36, 21, 85, 63, 27]) == (85, 5)\n",
        "assert find_max([76, 27, 73, 65, 52]) == (76, 0)\n",
        "assert find_max([33, 26, 69, 40, 93]) == (93, 4)\n",
        "assert find_max([87, 5, 95, 52, 21, 76, 22]) == (95, 2)\n",
        "assert find_max([75, 18, 89, 99, 70]) == (99, 3)"
      ],
      "metadata": {
        "id": "gxxAAPB4dZQY"
      },
      "execution_count": null,
      "outputs": []
    },
    {
      "cell_type": "code",
      "source": [
        "# функция append_to_list принимает два значения -- лист и значение, которое необходимо вставить в конец листа\n",
        "# функция возвращает обновленный лист\n",
        "def append_to_list(array, val):\n",
        "  array.append(val)\n",
        "  return array\n",
        "\n",
        "assert append_to_list([1, 2], 3) == [1, 2, 3]\n",
        "assert append_to_list([1, 2], None) == [1, 2, None]\n",
        "assert append_to_list([1, 's'], True) == [1, 's', True]"
      ],
      "metadata": {
        "id": "bgjpACaKd2r-"
      },
      "execution_count": null,
      "outputs": []
    },
    {
      "cell_type": "code",
      "source": [
        "# функция number_unique_elements принимает на вход лист\n",
        "# на выходе одно число -- количество уникальных элементов\n",
        "def number_unique_elements(array):\n",
        "      return len(set(array))\n",
        "\n",
        "assert number_unique_elements([1, 2, 3]) == 3\n",
        "assert number_unique_elements([1, 2, 1]) == 2\n",
        "assert number_unique_elements([1, 1, 1, 1]) == 1\n",
        "assert number_unique_elements([1, 2, 1, 2]) == 2"
      ],
      "metadata": {
        "id": "TVP3sTnSeUNk"
      },
      "execution_count": null,
      "outputs": []
    },
    {
      "cell_type": "markdown",
      "source": [
        "3. Классы"
      ],
      "metadata": {
        "id": "Y45tvfFYhY0B"
      }
    },
    {
      "cell_type": "code",
      "source": [
        "class Vehicle:\n",
        "    # TODO\n",
        "    def __init__(self, max_speed, mileage):\n",
        "      self.max_speed = max_speed\n",
        "      self.mileage = mileage\n",
        "\n",
        "\n",
        "veh1 = Vehicle(100, 50)\n",
        "assert (veh1.max_speed, veh1.mileage) == (100, 50)\n",
        "\n",
        "veh2 = Vehicle(200, 3)\n",
        "assert (veh2.max_speed, veh2.mileage) == (200, 3)"
      ],
      "metadata": {
        "id": "YqZnuY83haaW"
      },
      "execution_count": null,
      "outputs": []
    },
    {
      "cell_type": "code",
      "source": [
        "class Truck(Vehicle):\n",
        "  pass\n",
        "\n",
        "\n",
        "truck1 = Truck(50, 1000)\n",
        "assert (truck1.max_speed, truck1.mileage) == (50, 1000)\n",
        "\n",
        "truck2 = Truck(43, 235)\n",
        "assert (truck2.max_speed, truck2.mileage) == (43, 235)"
      ],
      "metadata": {
        "id": "UIdp9fZChukR"
      },
      "execution_count": null,
      "outputs": []
    },
    {
      "cell_type": "code",
      "source": [
        "class MyList:\n",
        "    def __init__(self, list):\n",
        "      self.list = list\n",
        "        # TODO: напиши меня\n",
        "\n",
        "\n",
        "    def return_sum(self):\n",
        "        count = 0\n",
        "        for i in range(len(self.list)):\n",
        "          count += self.list[i]\n",
        "        return count\n",
        "        \"\"\"\n",
        "        Возвращает сумму всех элементов сохраненного листа.\n",
        "        Пользоваться sum нельзя!\n",
        "        \"\"\"\n",
        "        # TODO: напиши меня\n",
        "        pass\n",
        "\n",
        "    def make_reverse(self):\n",
        "        new_list = []\n",
        "        for i in range(len(self.list)-1, -1 , -1):\n",
        "            new_list.append(self.list[i])\n",
        "        return new_list\n",
        "\n",
        "        \"\"\"\n",
        "        Разворачивает сохраненный лист.\n",
        "        \"\"\"\n",
        "        # TODO: напиши меня\n",
        "        pass\n",
        "\n",
        "    def make_slice(self, start, stop):\n",
        "        return self.list[start:stop]\n",
        "        \"\"\"\n",
        "        Делает слайсинг сохраненного листа.\n",
        "        \"\"\"\n",
        "        # TODO: напиши меня\n",
        "        pass\n",
        "\n",
        "\n",
        "a = MyList([1, 2, 3, 4])\n",
        "assert a.return_sum() == 10\n",
        "assert a.make_reverse() == [4, 3, 2, 1]\n",
        "assert a.make_slice(0, 2) == [1, 2]\n",
        "\n",
        "b = MyList([5, 6, 6, 5])\n",
        "assert b.return_sum() == 22\n",
        "assert b.make_reverse() == [5, 6, 6, 5]\n",
        "assert b.make_slice(1, 2) == [6]"
      ],
      "metadata": {
        "id": "q9sun6XmiDzN"
      },
      "execution_count": null,
      "outputs": []
    }
  ]
}